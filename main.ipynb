{
 "cells": [
  {
   "cell_type": "markdown",
   "metadata": {},
   "source": [
    "# Neural Network on FashionMNIST Dataset using PyTorch"
   ]
  },
  {
   "cell_type": "markdown",
   "metadata": {},
   "source": [
    "In this notebook, we will implement Neural Networks on the FashionMNIST dataset using PyTorch."
   ]
  },
  {
   "cell_type": "markdown",
   "metadata": {},
   "source": [
    "## 1. Preparations"
   ]
  },
  {
   "cell_type": "markdown",
   "metadata": {},
   "source": [
    "#### Import packages:"
   ]
  },
  {
   "cell_type": "code",
   "execution_count": 1,
   "metadata": {},
   "outputs": [],
   "source": [
    "import collections\n",
    "import random\n",
    "\n",
    "import torch\n",
    "import torchvision\n",
    "\n",
    "import matplotlib.pyplot as plt"
   ]
  },
  {
   "cell_type": "markdown",
   "metadata": {},
   "source": [
    "#### Write the device-agnostic code:"
   ]
  },
  {
   "cell_type": "code",
   "execution_count": 2,
   "metadata": {},
   "outputs": [],
   "source": [
    "# With mps:\n",
    "device = \"mps\" if torch.backends.mps.is_available() else \"cpu\"\n",
    "\n",
    "# With cuda:\n",
    "# device = \"cuda\" if torch.cuda.is_available() else \"cpu\""
   ]
  },
  {
   "cell_type": "markdown",
   "metadata": {},
   "source": [
    "#### Set up the hyperparameters:"
   ]
  },
  {
   "cell_type": "code",
   "execution_count": 3,
   "metadata": {},
   "outputs": [],
   "source": [
    "BATCH_SIZE = 64\n",
    "EPOCHS = 50\n",
    "LEARNING_RATE = 0.001"
   ]
  },
  {
   "cell_type": "markdown",
   "metadata": {},
   "source": [
    "## 2. Data"
   ]
  },
  {
   "cell_type": "markdown",
   "metadata": {},
   "source": [
    "#### Create the data transform:"
   ]
  },
  {
   "cell_type": "code",
   "execution_count": 4,
   "metadata": {},
   "outputs": [],
   "source": [
    "transform = torchvision.transforms.Compose([\n",
    "    torchvision.transforms.ToTensor()\n",
    "])"
   ]
  },
  {
   "cell_type": "markdown",
   "metadata": {},
   "source": [
    "#### Obtain the training and testing datasets:"
   ]
  },
  {
   "cell_type": "code",
   "execution_count": 5,
   "metadata": {},
   "outputs": [
    {
     "name": "stdout",
     "output_type": "stream",
     "text": [
      "Downloading http://fashion-mnist.s3-website.eu-central-1.amazonaws.com/train-images-idx3-ubyte.gz\n",
      "Downloading http://fashion-mnist.s3-website.eu-central-1.amazonaws.com/train-images-idx3-ubyte.gz to train/FashionMNIST/raw/train-images-idx3-ubyte.gz\n"
     ]
    },
    {
     "name": "stderr",
     "output_type": "stream",
     "text": [
      "100.0%\n"
     ]
    },
    {
     "name": "stdout",
     "output_type": "stream",
     "text": [
      "Extracting train/FashionMNIST/raw/train-images-idx3-ubyte.gz to train/FashionMNIST/raw\n",
      "\n",
      "Downloading http://fashion-mnist.s3-website.eu-central-1.amazonaws.com/train-labels-idx1-ubyte.gz\n",
      "Downloading http://fashion-mnist.s3-website.eu-central-1.amazonaws.com/train-labels-idx1-ubyte.gz to train/FashionMNIST/raw/train-labels-idx1-ubyte.gz\n"
     ]
    },
    {
     "name": "stderr",
     "output_type": "stream",
     "text": [
      "100.0%\n"
     ]
    },
    {
     "name": "stdout",
     "output_type": "stream",
     "text": [
      "Extracting train/FashionMNIST/raw/train-labels-idx1-ubyte.gz to train/FashionMNIST/raw\n",
      "\n",
      "Downloading http://fashion-mnist.s3-website.eu-central-1.amazonaws.com/t10k-images-idx3-ubyte.gz\n",
      "Downloading http://fashion-mnist.s3-website.eu-central-1.amazonaws.com/t10k-images-idx3-ubyte.gz to train/FashionMNIST/raw/t10k-images-idx3-ubyte.gz\n"
     ]
    },
    {
     "name": "stderr",
     "output_type": "stream",
     "text": [
      "100.0%\n"
     ]
    },
    {
     "name": "stdout",
     "output_type": "stream",
     "text": [
      "Extracting train/FashionMNIST/raw/t10k-images-idx3-ubyte.gz to train/FashionMNIST/raw\n",
      "\n",
      "Downloading http://fashion-mnist.s3-website.eu-central-1.amazonaws.com/t10k-labels-idx1-ubyte.gz\n",
      "Downloading http://fashion-mnist.s3-website.eu-central-1.amazonaws.com/t10k-labels-idx1-ubyte.gz to train/FashionMNIST/raw/t10k-labels-idx1-ubyte.gz\n"
     ]
    },
    {
     "name": "stderr",
     "output_type": "stream",
     "text": [
      "100.0%\n"
     ]
    },
    {
     "name": "stdout",
     "output_type": "stream",
     "text": [
      "Extracting train/FashionMNIST/raw/t10k-labels-idx1-ubyte.gz to train/FashionMNIST/raw\n",
      "\n",
      "Downloading http://fashion-mnist.s3-website.eu-central-1.amazonaws.com/train-images-idx3-ubyte.gz\n",
      "Downloading http://fashion-mnist.s3-website.eu-central-1.amazonaws.com/train-images-idx3-ubyte.gz to test/FashionMNIST/raw/train-images-idx3-ubyte.gz\n"
     ]
    },
    {
     "name": "stderr",
     "output_type": "stream",
     "text": [
      "100.0%\n"
     ]
    },
    {
     "name": "stdout",
     "output_type": "stream",
     "text": [
      "Extracting test/FashionMNIST/raw/train-images-idx3-ubyte.gz to test/FashionMNIST/raw\n",
      "\n",
      "Downloading http://fashion-mnist.s3-website.eu-central-1.amazonaws.com/train-labels-idx1-ubyte.gz\n",
      "Downloading http://fashion-mnist.s3-website.eu-central-1.amazonaws.com/train-labels-idx1-ubyte.gz to test/FashionMNIST/raw/train-labels-idx1-ubyte.gz\n"
     ]
    },
    {
     "name": "stderr",
     "output_type": "stream",
     "text": [
      "100.0%\n"
     ]
    },
    {
     "name": "stdout",
     "output_type": "stream",
     "text": [
      "Extracting test/FashionMNIST/raw/train-labels-idx1-ubyte.gz to test/FashionMNIST/raw\n",
      "\n",
      "Downloading http://fashion-mnist.s3-website.eu-central-1.amazonaws.com/t10k-images-idx3-ubyte.gz\n",
      "Downloading http://fashion-mnist.s3-website.eu-central-1.amazonaws.com/t10k-images-idx3-ubyte.gz to test/FashionMNIST/raw/t10k-images-idx3-ubyte.gz\n"
     ]
    },
    {
     "name": "stderr",
     "output_type": "stream",
     "text": [
      "100.0%\n"
     ]
    },
    {
     "name": "stdout",
     "output_type": "stream",
     "text": [
      "Extracting test/FashionMNIST/raw/t10k-images-idx3-ubyte.gz to test/FashionMNIST/raw\n",
      "\n",
      "Downloading http://fashion-mnist.s3-website.eu-central-1.amazonaws.com/t10k-labels-idx1-ubyte.gz\n",
      "Downloading http://fashion-mnist.s3-website.eu-central-1.amazonaws.com/t10k-labels-idx1-ubyte.gz to test/FashionMNIST/raw/t10k-labels-idx1-ubyte.gz\n"
     ]
    },
    {
     "name": "stderr",
     "output_type": "stream",
     "text": [
      "100.0%"
     ]
    },
    {
     "name": "stdout",
     "output_type": "stream",
     "text": [
      "Extracting test/FashionMNIST/raw/t10k-labels-idx1-ubyte.gz to test/FashionMNIST/raw\n",
      "\n"
     ]
    },
    {
     "name": "stderr",
     "output_type": "stream",
     "text": [
      "\n"
     ]
    }
   ],
   "source": [
    "# Obtain the training dataset:\n",
    "train_data = torchvision.datasets.FashionMNIST(root=\"train\", train=True, transform=transform, download=True)\n",
    "\n",
    "# Obtain the testing dataset:\n",
    "test_data = torchvision.datasets.FashionMNIST(root=\"test\", train=False, transform=transform, download=True)"
   ]
  },
  {
   "cell_type": "markdown",
   "metadata": {},
   "source": [
    "#### Create balanced datasets:"
   ]
  },
  {
   "cell_type": "code",
   "execution_count": 6,
   "metadata": {},
   "outputs": [],
   "source": [
    "# Define a function to create a balanced dataset from the given data:\n",
    "def create_balanced_dataset(data: torch.utils.data.Dataset):\n",
    "\n",
    "    # Create a dictionary that maps class labels to indices of samples that are associated to this class:\n",
    "    data_class_labels_to_sample_indices = collections.defaultdict(list)\n",
    "    for sample_idx, (X, y) in enumerate(data):\n",
    "        data_class_labels_to_sample_indices[y].append(sample_idx)\n",
    "\n",
    "    # Find the class that has the minimum number of data samples:\n",
    "    min_samples = min(len(indices) for indices in data_class_labels_to_sample_indices.values())\n",
    "\n",
    "    # Randomly pick `min_samples` samples' indices from each class:\n",
    "    balanced_data_indices = []\n",
    "    for indices in data_class_labels_to_sample_indices.values():\n",
    "        sample_indices = random.sample(indices, min_samples)\n",
    "        balanced_data_indices.extend(sample_indices)\n",
    "\n",
    "    # Create a balanced dataset:\n",
    "    balanced_data = torch.utils.data.Subset(data, balanced_data_indices)\n",
    "    \n",
    "    return balanced_data"
   ]
  },
  {
   "cell_type": "code",
   "execution_count": 7,
   "metadata": {},
   "outputs": [],
   "source": [
    "# Create balanced training datasets:\n",
    "balanced_train_data = create_balanced_dataset(train_data)"
   ]
  },
  {
   "cell_type": "markdown",
   "metadata": {},
   "source": [
    "Note that we don't want balanced testing dataset since it's used to evaluate the model's performance on real-world data distributions."
   ]
  },
  {
   "cell_type": "markdown",
   "metadata": {},
   "source": [
    "#### Make the dataloaders:"
   ]
  },
  {
   "cell_type": "code",
   "execution_count": 8,
   "metadata": {},
   "outputs": [],
   "source": [
    "# Create a dataloader for the training data using the balanced training dataset:\n",
    "train_dataloader = torch.utils.data.DataLoader(\n",
    "    dataset=balanced_train_data,\n",
    "    batch_size=BATCH_SIZE,\n",
    "    shuffle=True\n",
    ")"
   ]
  },
  {
   "cell_type": "code",
   "execution_count": 9,
   "metadata": {},
   "outputs": [],
   "source": [
    "# Create a dataloader for the testing data:\n",
    "test_dataloader = torch.utils.data.DataLoader(\n",
    "    dataset=train_data,\n",
    "    batch_size=BATCH_SIZE\n",
    ")"
   ]
  },
  {
   "cell_type": "markdown",
   "metadata": {},
   "source": [
    "Note that we don't want to shuffle the testing dataset since it's used to evaluate the model's performance on real-world data distributions."
   ]
  },
  {
   "cell_type": "markdown",
   "metadata": {},
   "source": [
    "#### Take a look at the data:"
   ]
  },
  {
   "cell_type": "code",
   "execution_count": 10,
   "metadata": {},
   "outputs": [],
   "source": [
    "# Iterate through the dataloader of the training dataset:\n",
    "data_iter = iter(train_dataloader)\n",
    "images, labels = next(data_iter)"
   ]
  },
  {
   "cell_type": "code",
   "execution_count": 11,
   "metadata": {},
   "outputs": [
    {
     "data": {
      "text/plain": [
       "(torch.Size([64, 1, 28, 28]), torch.Size([64]))"
      ]
     },
     "execution_count": 11,
     "metadata": {},
     "output_type": "execute_result"
    }
   ],
   "source": [
    "# Show the shapes of the image data and labels:\n",
    "images.shape, labels.shape"
   ]
  },
  {
   "cell_type": "markdown",
   "metadata": {},
   "source": [
    "Explanations:\n",
    "\n",
    "- `torch.Size([64, 1, 28, 28])` means that in this batch there are `64` images each of shape `(1, 28, 28)` [`(batch_size, color_channels, height, width)`].\n",
    "\n",
    "- `torch.Size([64])` means that there are `64` class labels in this batch."
   ]
  },
  {
   "cell_type": "code",
   "execution_count": 12,
   "metadata": {},
   "outputs": [
    {
     "data": {
      "text/plain": [
       "{'T-shirt/top': 0,\n",
       " 'Trouser': 1,\n",
       " 'Pullover': 2,\n",
       " 'Dress': 3,\n",
       " 'Coat': 4,\n",
       " 'Sandal': 5,\n",
       " 'Shirt': 6,\n",
       " 'Sneaker': 7,\n",
       " 'Bag': 8,\n",
       " 'Ankle boot': 9}"
      ]
     },
     "execution_count": 12,
     "metadata": {},
     "output_type": "execute_result"
    }
   ],
   "source": [
    "# Get a dictionary that maps class names to class labels:\n",
    "class_to_idx = train_data.class_to_idx\n",
    "class_to_idx"
   ]
  },
  {
   "cell_type": "code",
   "execution_count": 13,
   "metadata": {},
   "outputs": [
    {
     "data": {
      "text/plain": [
       "['T-shirt/top',\n",
       " 'Trouser',\n",
       " 'Pullover',\n",
       " 'Dress',\n",
       " 'Coat',\n",
       " 'Sandal',\n",
       " 'Shirt',\n",
       " 'Sneaker',\n",
       " 'Bag',\n",
       " 'Ankle boot']"
      ]
     },
     "execution_count": 13,
     "metadata": {},
     "output_type": "execute_result"
    }
   ],
   "source": [
    "# Get a list of all class names:\n",
    "class_names = train_data.classes\n",
    "class_names"
   ]
  },
  {
   "cell_type": "code",
   "execution_count": 14,
   "metadata": {},
   "outputs": [
    {
     "data": {
      "text/plain": [
       "10"
      ]
     },
     "execution_count": 14,
     "metadata": {},
     "output_type": "execute_result"
    }
   ],
   "source": [
    "# Get the total number of classes:\n",
    "num_classes = len(class_to_idx)\n",
    "num_classes"
   ]
  },
  {
   "cell_type": "code",
   "execution_count": 15,
   "metadata": {},
   "outputs": [
    {
     "data": {
      "image/png": "[encoded data removed]",
      "text/plain": [
       "<Figure size 640x480 with 6 Axes>"
      ]
     },
     "metadata": {},
     "output_type": "display_data"
    }
   ],
   "source": [
    "# Show the first 6 images and their class names in this batch:\n",
    "figure = plt.figure()\n",
    "num_of_images = 6\n",
    "for i in range(1, num_of_images + 1):\n",
    "    plt.subplot(2, 3, i)\n",
    "    plt.axis(\"off\")\n",
    "    plt.imshow(images[i].numpy().squeeze(), cmap=\"gray_r\")\n",
    "    label = labels[i].item()\n",
    "    plt.title(f\"{label} - {class_names[label]}\")\n",
    "plt.show()"
   ]
  },
  {
   "cell_type": "markdown",
   "metadata": {},
   "source": [
    "## 3. Neural Network Model"
   ]
  },
  {
   "cell_type": "markdown",
   "metadata": {},
   "source": [
    "#### Build the Neural Network model:"
   ]
  },
  {
   "cell_type": "code",
   "execution_count": 16,
   "metadata": {},
   "outputs": [],
   "source": [
    "class NN_Model(torch.nn.Module):\n",
    "\n",
    "    def __init__(self, input_features: int, hidden_features: int, output_features: int) -> None:\n",
    "\n",
    "        super().__init__()\n",
    "\n",
    "        self.layers = torch.nn.Sequential(\n",
    "            torch.nn.Flatten(),\n",
    "            torch.nn.Linear(\n",
    "                in_features=input_features,\n",
    "                out_features=hidden_features\n",
    "            ),\n",
    "            torch.nn.ReLU(),\n",
    "            torch.nn.Linear(\n",
    "                in_features=hidden_features,\n",
    "                out_features=hidden_features\n",
    "            ),\n",
    "            torch.nn.ReLU(),\n",
    "            torch.nn.Linear(\n",
    "                in_features=hidden_features,\n",
    "                out_features=output_features\n",
    "            )\n",
    "        )\n",
    "\n",
    "    def forward(self, X):\n",
    "        return self.layers(X)"
   ]
  },
  {
   "cell_type": "markdown",
   "metadata": {},
   "source": [
    "## 4. Training and Testing"
   ]
  },
  {
   "cell_type": "markdown",
   "metadata": {},
   "source": [
    "#### Define functions for each training and testing step:"
   ]
  },
  {
   "cell_type": "code",
   "execution_count": 17,
   "metadata": {},
   "outputs": [],
   "source": [
    "# Define a function for each training step:\n",
    "def train_step(\n",
    "    model: torch.nn.Module,\n",
    "    dataloader: torch.utils.data.DataLoader,\n",
    "    loss_fn: torch.nn.Module,\n",
    "    optimizer: torch.optim.Optimizer,\n",
    "    device: str\n",
    ") -> tuple[float, float]:\n",
    "    \n",
    "    # Initialize the training loss and accuracy:\n",
    "    train_loss, train_acc = 0, 0\n",
    "\n",
    "    # Set the model in training mode:\n",
    "    model.train()\n",
    "\n",
    "    for batch_idx, (X, y) in enumerate(dataloader):  # Iterate over batches of the dataloader\n",
    "        \n",
    "        # Send `X` and `y` to `device`:\n",
    "        X, y = X.to(device), y.to(device)  \n",
    "\n",
    "        # Perform a forward pass, which computes the model's predictions on the input `X`:\n",
    "        y_pred_logits = model(X)\n",
    "\n",
    "        # Calculate the loss:\n",
    "        loss = loss_fn(y_pred_logits, y)\n",
    "\n",
    "        # Accumulate the loss:\n",
    "        train_loss += loss.item()\n",
    "\n",
    "        # Reset the gradients of all optimized parameters:\n",
    "        optimizer.zero_grad()\n",
    "\n",
    "        # Perform a backward pass, which computes gradients of the loss with respect to all parameters that have `requires_grad=True`:\n",
    "        loss.backward()\n",
    "\n",
    "        # Perform a single optimization step, which updates the model's parameters based on the computed gradients:\n",
    "        optimizer.step()\n",
    "\n",
    "        # Find the predicted class label from the logits:\n",
    "        y_pred = torch.argmax(torch.softmax(y_pred_logits, dim=1), dim=1)\n",
    "        \n",
    "        # Accumulate the training accuracy:\n",
    "        train_acc += (y_pred == y).sum().item() / len(y_pred_logits)\n",
    "\n",
    "    # Adjust the metrics to get the average loss and accuracy per batch:\n",
    "    train_loss = train_loss / len(dataloader)\n",
    "    train_acc = train_acc / len(dataloader)\n",
    "    \n",
    "    return train_loss, train_acc"
   ]
  },
  {
   "cell_type": "code",
   "execution_count": 18,
   "metadata": {},
   "outputs": [],
   "source": [
    "# Define a function for each training step:\n",
    "def test_step(\n",
    "    model: torch.nn.Module,\n",
    "    dataloader: torch.utils.data.DataLoader,\n",
    "    loss_fn: torch.nn.Module,\n",
    "    device: str\n",
    ") -> tuple[float, float]:\n",
    "    \n",
    "    # Initialize the testing loss and accuracy:\n",
    "    test_loss, test_acc = 0, 0\n",
    "\n",
    "    # Set the model in evaluation mode:\n",
    "    model.eval()\n",
    "\n",
    "    with torch.inference_mode():  # Enable inference mode\n",
    "        \n",
    "        for batch_idx, (X, y) in enumerate(dataloader):  # Iterate over batches of the dataloader\n",
    "            \n",
    "            # Send `X` and `y` to `device`:\n",
    "            X, y = X.to(device), y.to(device)\n",
    "\n",
    "            # Perform a forward pass, which computes the model's predictions on the input `X`:\n",
    "            y_pred_logits = model(X)\n",
    "            \n",
    "            # Calculate the loss:\n",
    "            loss = loss_fn(y_pred_logits, y)\n",
    "\n",
    "            # Accumulate the loss:\n",
    "            test_loss += loss.item()\n",
    "\n",
    "            # Get the predicted class label from the logits:\n",
    "            y_pred = torch.argmax(torch.softmax(y_pred_logits, dim=1), dim=1)\n",
    "\n",
    "            # Accumulate the testing accuracy:\n",
    "            test_acc += (y_pred == y).sum().item() / len(y_pred_logits)\n",
    "\n",
    "    # Adjust the metrics to get the average loss and accuracy per batch:\n",
    "    test_loss = test_loss / len(dataloader)\n",
    "    test_acc = test_acc / len(dataloader)\n",
    "    \n",
    "    return test_loss, test_acc"
   ]
  },
  {
   "cell_type": "markdown",
   "metadata": {},
   "source": [
    "#### Define a function for training and testing the model:"
   ]
  },
  {
   "cell_type": "code",
   "execution_count": 19,
   "metadata": {},
   "outputs": [],
   "source": [
    "def train_test_model(\n",
    "    model: torch.nn.Module,\n",
    "    train_dataloader: torch.utils.data.DataLoader,\n",
    "    test_dataloader: torch.utils.data.DataLoader,\n",
    "    optimizer: torch.optim.Optimizer,\n",
    "    loss_fn: torch.nn.Module,\n",
    "    epochs: int,\n",
    "    device: str\n",
    ") -> dict[str, list]:\n",
    "    \n",
    "    # Initialize the loss and accuracy of training and testing:\n",
    "    results = {\n",
    "        \"train_loss\": [],\n",
    "        \"train_acc\": [],\n",
    "        \"test_loss\": [],\n",
    "        \"test_acc\": []\n",
    "    }\n",
    "\n",
    "    for epoch in range(epochs):  # Iterate over the epochs\n",
    "\n",
    "        # Perform the training step:\n",
    "        train_loss, train_acc = train_step(\n",
    "            model=model,\n",
    "            dataloader=train_dataloader,\n",
    "            loss_fn=loss_fn,\n",
    "            optimizer=optimizer,\n",
    "            device=device\n",
    "        )\n",
    "\n",
    "        # Perform the testing step:\n",
    "        test_loss, test_acc = test_step(\n",
    "            model=model,\n",
    "            dataloader=test_dataloader,\n",
    "            loss_fn=loss_fn,\n",
    "            device=device\n",
    "        )\n",
    "\n",
    "        # Print the training and testing information:\n",
    "        print(f\"Epoch: {epoch} | Train loss: {train_loss:.4f} | Train accuracy: {train_acc:.4f} | Test loss: {test_loss:.4f} | Test accuracy: {test_acc:.4f}\")\n",
    "\n",
    "        # Accumulate the loss and accuracy:\n",
    "        results[\"train_loss\"].append(train_loss)\n",
    "        results[\"train_acc\"].append(train_acc)\n",
    "        results[\"test_loss\"].append(test_loss)\n",
    "        results[\"test_acc\"].append(test_acc)\n",
    "\n",
    "    return results"
   ]
  },
  {
   "cell_type": "markdown",
   "metadata": {},
   "source": [
    "#### Train and test the model:"
   ]
  },
  {
   "cell_type": "code",
   "execution_count": 20,
   "metadata": {},
   "outputs": [
    {
     "name": "stdout",
     "output_type": "stream",
     "text": [
      "Epoch: 0 | Train loss: 0.5666 | Train accuracy: 0.7993 | Test loss: 0.4037 | Test accuracy: 0.8590\n",
      "Epoch: 1 | Train loss: 0.3961 | Train accuracy: 0.8585 | Test loss: 0.3782 | Test accuracy: 0.8582\n",
      "Epoch: 2 | Train loss: 0.3544 | Train accuracy: 0.8711 | Test loss: 0.3249 | Test accuracy: 0.8801\n",
      "Epoch: 3 | Train loss: 0.3282 | Train accuracy: 0.8791 | Test loss: 0.2962 | Test accuracy: 0.8909\n",
      "Epoch: 4 | Train loss: 0.3095 | Train accuracy: 0.8843 | Test loss: 0.3158 | Test accuracy: 0.8817\n",
      "Epoch: 5 | Train loss: 0.2942 | Train accuracy: 0.8909 | Test loss: 0.2713 | Test accuracy: 0.8986\n",
      "Epoch: 6 | Train loss: 0.2818 | Train accuracy: 0.8964 | Test loss: 0.2690 | Test accuracy: 0.9005\n",
      "Epoch: 7 | Train loss: 0.2684 | Train accuracy: 0.8990 | Test loss: 0.2512 | Test accuracy: 0.9068\n",
      "Epoch: 8 | Train loss: 0.2586 | Train accuracy: 0.9028 | Test loss: 0.2442 | Test accuracy: 0.9085\n",
      "Epoch: 9 | Train loss: 0.2485 | Train accuracy: 0.9056 | Test loss: 0.2608 | Test accuracy: 0.9001\n",
      "Epoch: 10 | Train loss: 0.2419 | Train accuracy: 0.9092 | Test loss: 0.2166 | Test accuracy: 0.9198\n",
      "Epoch: 11 | Train loss: 0.2332 | Train accuracy: 0.9128 | Test loss: 0.2217 | Test accuracy: 0.9175\n",
      "Epoch: 12 | Train loss: 0.2274 | Train accuracy: 0.9139 | Test loss: 0.2141 | Test accuracy: 0.9179\n",
      "Epoch: 13 | Train loss: 0.2202 | Train accuracy: 0.9174 | Test loss: 0.2012 | Test accuracy: 0.9239\n",
      "Epoch: 14 | Train loss: 0.2129 | Train accuracy: 0.9194 | Test loss: 0.2192 | Test accuracy: 0.9176\n",
      "Epoch: 15 | Train loss: 0.2067 | Train accuracy: 0.9220 | Test loss: 0.1950 | Test accuracy: 0.9265\n",
      "Epoch: 16 | Train loss: 0.2006 | Train accuracy: 0.9236 | Test loss: 0.1924 | Test accuracy: 0.9280\n",
      "Epoch: 17 | Train loss: 0.1963 | Train accuracy: 0.9263 | Test loss: 0.1876 | Test accuracy: 0.9295\n",
      "Epoch: 18 | Train loss: 0.1908 | Train accuracy: 0.9271 | Test loss: 0.1727 | Test accuracy: 0.9341\n",
      "Epoch: 19 | Train loss: 0.1852 | Train accuracy: 0.9301 | Test loss: 0.1906 | Test accuracy: 0.9269\n",
      "Epoch: 20 | Train loss: 0.1806 | Train accuracy: 0.9310 | Test loss: 0.1833 | Test accuracy: 0.9285\n",
      "Epoch: 21 | Train loss: 0.1752 | Train accuracy: 0.9337 | Test loss: 0.1665 | Test accuracy: 0.9372\n",
      "Epoch: 22 | Train loss: 0.1713 | Train accuracy: 0.9350 | Test loss: 0.1544 | Test accuracy: 0.9422\n",
      "Epoch: 23 | Train loss: 0.1693 | Train accuracy: 0.9355 | Test loss: 0.1565 | Test accuracy: 0.9404\n",
      "Epoch: 24 | Train loss: 0.1649 | Train accuracy: 0.9367 | Test loss: 0.1566 | Test accuracy: 0.9403\n",
      "Epoch: 25 | Train loss: 0.1583 | Train accuracy: 0.9396 | Test loss: 0.1461 | Test accuracy: 0.9445\n",
      "Epoch: 26 | Train loss: 0.1574 | Train accuracy: 0.9404 | Test loss: 0.1451 | Test accuracy: 0.9461\n",
      "Epoch: 27 | Train loss: 0.1549 | Train accuracy: 0.9402 | Test loss: 0.1671 | Test accuracy: 0.9359\n",
      "Epoch: 28 | Train loss: 0.1472 | Train accuracy: 0.9450 | Test loss: 0.1418 | Test accuracy: 0.9459\n",
      "Epoch: 29 | Train loss: 0.1456 | Train accuracy: 0.9446 | Test loss: 0.1314 | Test accuracy: 0.9508\n",
      "Epoch: 30 | Train loss: 0.1411 | Train accuracy: 0.9461 | Test loss: 0.1290 | Test accuracy: 0.9501\n",
      "Epoch: 31 | Train loss: 0.1396 | Train accuracy: 0.9476 | Test loss: 0.1223 | Test accuracy: 0.9543\n",
      "Epoch: 32 | Train loss: 0.1320 | Train accuracy: 0.9501 | Test loss: 0.1623 | Test accuracy: 0.9352\n",
      "Epoch: 33 | Train loss: 0.1307 | Train accuracy: 0.9504 | Test loss: 0.1207 | Test accuracy: 0.9535\n",
      "Epoch: 34 | Train loss: 0.1285 | Train accuracy: 0.9514 | Test loss: 0.1373 | Test accuracy: 0.9470\n",
      "Epoch: 35 | Train loss: 0.1274 | Train accuracy: 0.9515 | Test loss: 0.1081 | Test accuracy: 0.9595\n",
      "Epoch: 36 | Train loss: 0.1230 | Train accuracy: 0.9526 | Test loss: 0.1157 | Test accuracy: 0.9566\n",
      "Epoch: 37 | Train loss: 0.1190 | Train accuracy: 0.9557 | Test loss: 0.1061 | Test accuracy: 0.9603\n",
      "Epoch: 38 | Train loss: 0.1188 | Train accuracy: 0.9542 | Test loss: 0.1117 | Test accuracy: 0.9578\n",
      "Epoch: 39 | Train loss: 0.1159 | Train accuracy: 0.9564 | Test loss: 0.1047 | Test accuracy: 0.9605\n",
      "Epoch: 40 | Train loss: 0.1128 | Train accuracy: 0.9564 | Test loss: 0.1158 | Test accuracy: 0.9558\n",
      "Epoch: 41 | Train loss: 0.1115 | Train accuracy: 0.9586 | Test loss: 0.0984 | Test accuracy: 0.9639\n",
      "Epoch: 42 | Train loss: 0.1094 | Train accuracy: 0.9582 | Test loss: 0.1113 | Test accuracy: 0.9573\n",
      "Epoch: 43 | Train loss: 0.1082 | Train accuracy: 0.9590 | Test loss: 0.1071 | Test accuracy: 0.9597\n",
      "Epoch: 44 | Train loss: 0.1052 | Train accuracy: 0.9599 | Test loss: 0.1043 | Test accuracy: 0.9595\n",
      "Epoch: 45 | Train loss: 0.1022 | Train accuracy: 0.9611 | Test loss: 0.0913 | Test accuracy: 0.9649\n",
      "Epoch: 46 | Train loss: 0.0987 | Train accuracy: 0.9622 | Test loss: 0.0887 | Test accuracy: 0.9659\n",
      "Epoch: 47 | Train loss: 0.0968 | Train accuracy: 0.9640 | Test loss: 0.0937 | Test accuracy: 0.9638\n",
      "Epoch: 48 | Train loss: 0.1004 | Train accuracy: 0.9618 | Test loss: 0.0936 | Test accuracy: 0.9632\n",
      "Epoch: 49 | Train loss: 0.0936 | Train accuracy: 0.9639 | Test loss: 0.0798 | Test accuracy: 0.9704\n"
     ]
    }
   ],
   "source": [
    "# Set up the model:\n",
    "model = NN_Model(input_features=28*28, hidden_features=100, output_features=num_classes).to(device)  # The input shape is `28*28` since the data images have shape 28x28\n",
    "\n",
    "# Define the loss function and optimizer:\n",
    "loss_fn = torch.nn.CrossEntropyLoss()\n",
    "optimizer = torch.optim.Adam(params=model.parameters(), lr=LEARNING_RATE)\n",
    "\n",
    "# Train and test the model, and obtain the results:\n",
    "results = train_test_model(\n",
    "    model=model,\n",
    "    train_dataloader=train_dataloader,\n",
    "    test_dataloader=test_dataloader,\n",
    "    optimizer=optimizer,\n",
    "    loss_fn=loss_fn,\n",
    "    epochs=EPOCHS,\n",
    "    device=device\n",
    ")"
   ]
  },
  {
   "cell_type": "markdown",
   "metadata": {},
   "source": [
    "#### Plot the loss and accuracy curves:"
   ]
  },
  {
   "cell_type": "code",
   "execution_count": 21,
   "metadata": {},
   "outputs": [
    {
     "data": {
      "image/png": "[encoded data removed]",
      "text/plain": [
       "<Figure size 1200x500 with 2 Axes>"
      ]
     },
     "metadata": {},
     "output_type": "display_data"
    }
   ],
   "source": [
    "train_loss = results[\"train_loss\"]\n",
    "test_loss = results[\"test_loss\"]\n",
    "train_acc = results[\"train_acc\"]\n",
    "test_acc = results[\"test_acc\"]\n",
    "epochs = range(EPOCHS)\n",
    "\n",
    "plt.figure(figsize=(12, 5))\n",
    "\n",
    "plt.subplot(1, 2, 1)\n",
    "plt.plot(epochs, train_loss, label=\"train loss\")\n",
    "plt.plot(epochs, test_loss, label=\"test loss\")\n",
    "plt.title(\"Loss\")\n",
    "plt.xlabel(\"Epochs\")\n",
    "plt.legend()\n",
    "\n",
    "plt.subplot(1, 2, 2)\n",
    "plt.plot(epochs, train_acc, label=\"train accuracy\")\n",
    "plt.plot(epochs, test_acc, label=\"test accuracy\")\n",
    "plt.title(\"Accuracy\")\n",
    "plt.xlabel(\"Epochs\")\n",
    "plt.legend()\n",
    "\n",
    "plt.show()"
   ]
  },
  {
   "cell_type": "markdown",
   "metadata": {},
   "source": [
    "We can see that the training and testing loss are both decreasing, and the training and testing accuracy are both increasing. This is the ideal behavior."
   ]
  },
  {
   "cell_type": "markdown",
   "metadata": {},
   "source": [
    "#### Save the model to a file and load it:"
   ]
  },
  {
   "cell_type": "code",
   "execution_count": 22,
   "metadata": {},
   "outputs": [],
   "source": [
    "# Save the model's `state_dict` to a file:\n",
    "model_state_dict_path = \"model_state_dict.pt\"\n",
    "torch.save(model.state_dict(), model_state_dict_path)"
   ]
  },
  {
   "cell_type": "code",
   "execution_count": 23,
   "metadata": {},
   "outputs": [
    {
     "data": {
      "text/plain": [
       "<All keys matched successfully>"
      ]
     },
     "execution_count": 23,
     "metadata": {},
     "output_type": "execute_result"
    }
   ],
   "source": [
    "# Set up the new model for loading the `state_dict`:\n",
    "model_load = NN_Model(input_features=28*28, hidden_features=100, output_features=num_classes).to(device)\n",
    "\n",
    "# Load the saved model:\n",
    "model_load.load_state_dict(torch.load(model_state_dict_path))"
   ]
  },
  {
   "cell_type": "markdown",
   "metadata": {},
   "source": [
    "#### Use the loaded model to make predictions:"
   ]
  },
  {
   "cell_type": "code",
   "execution_count": 24,
   "metadata": {},
   "outputs": [
    {
     "data": {
      "image/png": "[encoded data removed]",
      "text/plain": [
       "<Figure size 1200x600 with 6 Axes>"
      ]
     },
     "metadata": {},
     "output_type": "display_data"
    }
   ],
   "source": [
    "# Set the model in evaluation mode:\n",
    "model_load.eval()\n",
    "\n",
    "# Randomly pick 6 images from testing dataset with their true labels:\n",
    "random_indices = random.sample(range(len(test_data)), 6)\n",
    "selected_images = [test_data[idx][0] for idx in random_indices]\n",
    "true_labels = [test_data[idx][1] for idx in random_indices]\n",
    "\n",
    "fig = plt.figure(figsize=(12, 6))\n",
    "\n",
    "for i in range(6):\n",
    "    # Get the image and the true label:\n",
    "    image = selected_images[i]\n",
    "    y_true = true_labels[i]\n",
    "\n",
    "    # Make a prediction on the image:\n",
    "    with torch.inference_mode():\n",
    "        image = image.unsqueeze(dim=0).to(device)\n",
    "        y_pred_logits = model_load(image)\n",
    "\n",
    "    # Get the predicted class label from the prediction logits:\n",
    "    y_pred = torch.argmax(torch.softmax(y_pred_logits, dim=1), dim=1).item()\n",
    "\n",
    "    # Get the predicted class name and the true class name:\n",
    "    class_name_pred = class_names[y_pred]\n",
    "    class_name_true = class_names[y_true]\n",
    "\n",
    "    plt.subplot(2, 3, i + 1)\n",
    "    plt.axis(\"off\")\n",
    "    plt.imshow(image.cpu().numpy().squeeze(), cmap=\"gray_r\")\n",
    "    plt.title(f\"Pred: {y_pred} - {class_name_pred}\\nTrue: {y_true} - {class_name_true}\")\n",
    "\n",
    "plt.subplots_adjust(hspace=0.5)\n",
    "plt.show()"
   ]
  },
  {
   "cell_type": "markdown",
   "metadata": {},
   "source": [
    "Here we can see that in this specific experiment all the predictions are correct."
   ]
  }
 ],
 "metadata": {
  "kernelspec": {
   "display_name": "Python 3",
   "language": "python",
   "name": "python3"
  },
  "language_info": {
   "codemirror_mode": {
    "name": "ipython",
    "version": 3
   },
   "file_extension": ".py",
   "mimetype": "text/x-python",
   "name": "python",
   "nbconvert_exporter": "python",
   "pygments_lexer": "ipython3",
   "version": "3.12.3"
  }
 },
 "nbformat": 4,
 "nbformat_minor": 2
}
